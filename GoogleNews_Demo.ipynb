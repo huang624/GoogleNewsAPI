{
  "nbformat": 4,
  "nbformat_minor": 0,
  "metadata": {
    "colab": {
      "name": "GoogleNews_Demo.ipynb",
      "provenance": [],
      "include_colab_link": true
    },
    "kernelspec": {
      "name": "python3",
      "display_name": "Python 3"
    },
    "language_info": {
      "name": "python"
    }
  },
  "cells": [
    {
      "cell_type": "markdown",
      "metadata": {
        "id": "view-in-github",
        "colab_type": "text"
      },
      "source": [
        "<a href=\"https://colab.research.google.com/github/huang624/GoogleNewsAPI/blob/main/GoogleNews_Demo.ipynb\" target=\"_parent\"><img src=\"https://colab.research.google.com/assets/colab-badge.svg\" alt=\"Open In Colab\"/></a>"
      ]
    },
    {
      "cell_type": "code",
      "execution_count": null,
      "metadata": {
        "colab": {
          "base_uri": "https://localhost:8080/"
        },
        "id": "NyWoGybLAyw4",
        "outputId": "ca169522-8bf3-4ef1-efdc-b0f5f1781e01"
      },
      "outputs": [
        {
          "output_type": "stream",
          "name": "stdout",
          "text": [
            "Looking in indexes: https://pypi.org/simple, https://us-python.pkg.dev/colab-wheels/public/simple/\n",
            "Collecting GoogleNews\n",
            "  Downloading GoogleNews-1.6.4-py3-none-any.whl (8.0 kB)\n",
            "Collecting dateparser\n",
            "  Downloading dateparser-1.1.1-py2.py3-none-any.whl (288 kB)\n",
            "\u001b[K     |████████████████████████████████| 288 kB 34.8 MB/s \n",
            "\u001b[?25hRequirement already satisfied: beautifulsoup4 in /usr/local/lib/python3.7/dist-packages (from GoogleNews) (4.6.3)\n",
            "Requirement already satisfied: python-dateutil in /usr/local/lib/python3.7/dist-packages (from GoogleNews) (2.8.2)\n",
            "Requirement already satisfied: tzlocal in /usr/local/lib/python3.7/dist-packages (from dateparser->GoogleNews) (1.5.1)\n",
            "Requirement already satisfied: pytz in /usr/local/lib/python3.7/dist-packages (from dateparser->GoogleNews) (2022.1)\n",
            "Collecting regex!=2019.02.19,!=2021.8.27,<2022.3.15\n",
            "  Downloading regex-2022.3.2-cp37-cp37m-manylinux_2_17_x86_64.manylinux2014_x86_64.whl (749 kB)\n",
            "\u001b[K     |████████████████████████████████| 749 kB 9.6 MB/s \n",
            "\u001b[?25hRequirement already satisfied: six>=1.5 in /usr/local/lib/python3.7/dist-packages (from python-dateutil->GoogleNews) (1.15.0)\n",
            "Installing collected packages: regex, dateparser, GoogleNews\n",
            "  Attempting uninstall: regex\n",
            "    Found existing installation: regex 2022.6.2\n",
            "    Uninstalling regex-2022.6.2:\n",
            "      Successfully uninstalled regex-2022.6.2\n",
            "Successfully installed GoogleNews-1.6.4 dateparser-1.1.1 regex-2022.3.2\n"
          ]
        }
      ],
      "source": [
        "!pip install GoogleNews"
      ]
    },
    {
      "cell_type": "code",
      "source": [
        "from GoogleNews import GoogleNews\n",
        "GoogleNews().clear()"
      ],
      "metadata": {
        "id": "horNC9_rxIsd"
      },
      "execution_count": null,
      "outputs": []
    },
    {
      "cell_type": "code",
      "source": [
        "googlenews = GoogleNews(lang='zh-TW', start='06/21/2022', end='06/28/2022', encode='utf-8')\n",
        "googlenews.search('蔡英文')"
      ],
      "metadata": {
        "id": "Dek_aQjV0o2o"
      },
      "execution_count": null,
      "outputs": []
    },
    {
      "cell_type": "markdown",
      "source": [
        "### 第一頁的新聞"
      ],
      "metadata": {
        "id": "ylhrNvaXBoZD"
      }
    },
    {
      "cell_type": "code",
      "source": [
        "result = googlenews.page_at(1)\n",
        "print(len(result))\n",
        "result"
      ],
      "metadata": {
        "id": "KiosTlzM2rn8",
        "colab": {
          "base_uri": "https://localhost:8080/"
        },
        "outputId": "b789f23e-6992-4236-b741-0b6658493627"
      },
      "execution_count": null,
      "outputs": [
        {
          "output_type": "stream",
          "name": "stdout",
          "text": [
            "10\n"
          ]
        },
        {
          "output_type": "execute_result",
          "data": {
            "text/plain": [
              "[{'date': '6 天前',\n",
              "  'datetime': None,\n",
              "  'desc': '張嘉男／綜合報導. \\n民眾黨主席柯文哲18日前往金門時主張興建「金廈大橋」，陸委會抨擊柯文哲的說法無知，對此台北市政府發言人陳智菡舉過去蔡英文、陳建仁到金門站台...',\n",
              "  'img': 'data:image/gif;base64,R0lGODlhAQABAIAAAP///////yH5BAEKAAEALAAAAAABAAEAAAICTAEAOw==',\n",
              "  'link': 'https://tw.news.yahoo.com/%E6%9F%AF%E6%96%87%E5%93%B2%E6%8B%8B-%E9%87%91%E5%BB%88%E5%A4%A7%E6%A9%8B-%E6%8C%A8%E6%89%B9%E7%84%A1%E7%9F%A5-%E9%99%B3%E6%99%BA%E8%8F%A1-%E8%94%A1%E8%8B%B1%E6%96%87-021633134.html',\n",
              "  'media': 'Yahoo奇摩新聞',\n",
              "  'title': '柯文哲拋「金廈大橋」挨批無知 陳智菡：蔡英文、陳建仁也曾表態認同'},\n",
              " {'date': '6 天前',\n",
              "  'datetime': None,\n",
              "  'desc': '民眾黨黨主席、台北市長柯文哲日前拋出興建「金廈大橋」，遭陸委會轟為「荒謬、無知」，台北市政府發言人陳智菡反擊，總統蔡英文總統在2015年輔選參選立委的陳滄江，也...',\n",
              "  'img': 'data:image/gif;base64,R0lGODlhAQABAIAAAP///////yH5BAEKAAEALAAAAAABAAEAAAICTAEAOw==',\n",
              "  'link': 'https://www.upmedia.mg/news_info.php?Type=24&SerialNo=147571',\n",
              "  'media': '上報Up Media',\n",
              "  'title': '駁「金廈大橋」是蔡英文政見民進黨：用搜尋引擎可知全貌--上報'},\n",
              " {'date': '6 天前',\n",
              "  'datetime': None,\n",
              "  'desc': '今(22)日又強調，2015年民進黨立委候選人陳滄江也曾提過，蓋金廈大橋是他與當時的總統候選人蔡英文的「共同政見」，難道蔡總統也變中共同路人？',\n",
              "  'img': 'data:image/gif;base64,R0lGODlhAQABAIAAAP///////yH5BAEKAAEALAAAAAABAAEAAAICTAEAOw==',\n",
              "  'link': 'https://newtalk.tw/news/view/2022-06-22/773956',\n",
              "  'media': 'Newtalk新聞',\n",
              "  'title': '「金廈大橋」曾是蔡英文政見 黃暐瀚：難道蔡總統也變中共同路人？'},\n",
              " {'date': '5 天前',\n",
              "  'datetime': None,\n",
              "  'desc': '有關總統蔡英文論文議題再有新進展，旅美學者林環牆22日指出，英國一審行政法庭麥肯納法官近日做出2項判決，指出LSE提供不實的蔡英文博士口委名單給台灣，另媒體人彭文...',\n",
              "  'img': 'data:image/gif;base64,R0lGODlhAQABAIAAAP///////yH5BAEKAAEALAAAAAABAAEAAAICTAEAOw==',\n",
              "  'link': 'https://tw.news.yahoo.com/%E8%AB%96%E6%96%87%E6%96%B0%E9%80%B2%E5%B1%95-%E8%94%A1%E8%8B%B1%E6%96%87%E5%BE%8B%E5%B8%AB%E5%8F%8D%E6%93%8A%E5%BD%AD%E6%96%87%E6%AD%A3-123241234.html',\n",
              "  'media': 'Yahoo奇摩新聞',\n",
              "  'title': '論文新進展！蔡英文律師反擊彭文正'},\n",
              " {'date': '5 天前',\n",
              "  'datetime': None,\n",
              "  'desc': '旅美學者林環牆持續追蹤總統蔡英文「論文門」爭議，林環牆於臉書發文表示，英國一審行政法庭法官麥肯納（Alison \\nMckenna）重重打臉英國資訊特任官辦公室（ICO），...',\n",
              "  'img': 'data:image/gif;base64,R0lGODlhAQABAIAAAP///////yH5BAEKAAEALAAAAAABAAEAAAICTAEAOw==',\n",
              "  'link': 'https://www.storm.mg/article/4393025?page=1',\n",
              "  'media': '風傳媒',\n",
              "  'title': '林環牆稱LSE提報2教師冒充蔡英文博士口委蔡英文律師：注意 ...'},\n",
              " {'date': '5 天前',\n",
              "  'datetime': None,\n",
              "  'desc': '學者林環牆指稱，英國行政法庭判決倫敦政經學院（LSE）提供不實的總統蔡英文博士口試委員名單給台灣法務部；名嘴彭文正及網路節目「政經關不了」並指稱，總統提供偽造證據...',\n",
              "  'img': 'data:image/gif;base64,R0lGODlhAQABAIAAAP///////yH5BAEKAAEALAAAAAABAAEAAAICTAEAOw==',\n",
              "  'link': 'https://news.ltn.com.tw/news/politics/breakingnews/3970332',\n",
              "  'media': '自由時報',\n",
              "  'title': '蔡英文委任律師：英國法院無任何指稱串通LSE或偽證'},\n",
              " {'date': '3 天前',\n",
              "  'datetime': None,\n",
              "  'desc': '對此，前立委沈富雄認為，2024年代表綠營參選總統的一定是賴清德；陳建仁則是被總統蔡英文用來逼賴聽話的「一招棋」。 \\n針對陳建仁否認為選總統入黨、以「台灣缺陳建仁作...',\n",
              "  'img': 'data:image/gif;base64,R0lGODlhAQABAIAAAP///////yH5BAEKAAEALAAAAAABAAEAAAICTAEAOw==',\n",
              "  'link': 'https://tw.news.yahoo.com/%E9%99%B3%E5%BB%BA%E4%BB%81%E5%85%A5%E9%BB%A8%E4%B8%8D%E7%82%BA%E9%81%B8%E7%B8%BD%E7%B5%B1-%E6%B2%88%E5%AF%8C%E9%9B%84%E6%8F%AD%E8%94%A1%E8%8B%B1%E6%96%87%E7%9B%A4%E7%AE%97-%E5%A6%82%E6%9E%9C%E8%B3%B4%E6%B8%85%E5%BE%B7%E5%A4%A0%E4%B9%96%E5%B0%B1%E6%B2%92%E4%BA%8B%E4%BA%86-084000349.html',\n",
              "  'media': 'Yahoo奇摩新聞',\n",
              "  'title': '陳建仁入黨不為選總統？沈富雄揭蔡英文盤算：如果賴清德夠乖就沒事了'},\n",
              " {'date': '4 天前',\n",
              "  'datetime': None,\n",
              "  'desc': '總統蔡英文21日召見立委黃秀芳會談下屆縣長問題後，總統蔡英文明天將出席小英之友會彰化分會會員大會，彰化縣3位女立委都受邀，綠營研判總統將宣布徵召黃秀芳，對於接...',\n",
              "  'img': 'data:image/gif;base64,R0lGODlhAQABAIAAAP///////yH5BAEKAAEALAAAAAABAAEAAAICTAEAOw==',\n",
              "  'link': 'https://tw.news.yahoo.com/%E8%94%A1%E8%8B%B1%E6%96%87%E6%98%8E%E5%88%B0%E5%BD%B0%E5%8C%96%E5%BE%B5%E5%8F%AC%E9%BB%83%E7%A7%80%E8%8A%B3%E6%88%90%E5%AE%9A%E5%B1%80-%E7%8E%8B%E6%83%A0%E7%BE%8E%E9%80%99%E9%BA%BC%E5%9B%9E%E6%87%89-130906086.html',\n",
              "  'media': 'Yahoo奇摩新聞',\n",
              "  'title': '蔡英文明到彰化徵召黃秀芳成定局？ 王惠美這麼回應'},\n",
              " {'date': '3 天前',\n",
              "  'datetime': None,\n",
              "  'desc': '台中市/ 吳烈安林品鑫報導. \\n總統蔡英文上前往台中，到國軍台中803總醫院視察，並且慰勞醫護人員，除了市長盧秀燕到現場陪同，要參選台中市長的立法院副院長蔡其昌也...',\n",
              "  'img': 'data:image/gif;base64,R0lGODlhAQABAIAAAP///////yH5BAEKAAEALAAAAAABAAEAAAICTAEAOw==',\n",
              "  'link': 'https://tw.news.yahoo.com/%E8%94%A1%E8%8B%B1%E6%96%87%E8%A6%96%E5%AF%9F803%E7%B8%BD%E9%86%AB%E9%99%A2-%E7%9B%A7%E7%A7%80%E7%87%95-%E8%94%A1%E5%85%B6%E6%98%8C%E9%99%AA%E5%90%8C-050000764.html',\n",
              "  'media': 'Yahoo奇摩新聞',\n",
              "  'title': '蔡英文視察803總醫院 盧秀燕.蔡其昌陪同'},\n",
              " {'date': '1 週前',\n",
              "  'datetime': None,\n",
              "  'desc': '游盈隆指出，蔡英文民調與上個月相比，並沒有明顯起伏，因為Omicron疫情嚴重爆發，所以讓蔡政府的防疫表現不再讓人民津津樂道，蔡英文的民調也開始下跌，雖然中國大陸...',\n",
              "  'img': 'data:image/gif;base64,R0lGODlhAQABAIAAAP///////yH5BAEKAAEALAAAAAABAAEAAAICTAEAOw==',\n",
              "  'link': 'https://tw.news.yahoo.com/%E7%9F%B3%E6%96%91%E9%AD%9A%E4%B9%9F%E6%95%91%E4%B8%8D%E4%BA%86%E8%94%A1%E8%8B%B1%E6%96%87-%E6%9C%80%E6%96%B0%E6%B0%91%E8%AA%BF%E5%87%BA%E7%88%90-%E4%BB%96%E6%9B%9D%E7%B6%A0%E7%87%9F%E5%B9%B4%E5%BA%95%E9%81%B8%E8%88%89%E4%B8%8B%E5%A0%B4-124727782.html',\n",
              "  'media': 'Yahoo奇摩新聞',\n",
              "  'title': '石斑魚也救不了蔡英文！最新民調出爐 他曝綠營年底選舉下場'}]"
            ]
          },
          "metadata": {},
          "execution_count": 4
        }
      ]
    },
    {
      "cell_type": "markdown",
      "source": [
        "### 第一頁到第三頁的新聞"
      ],
      "metadata": {
        "id": "vEz4gG3DBvn5"
      }
    },
    {
      "cell_type": "code",
      "source": [
        "result = []\n",
        "for i in range(1,4):  \n",
        "  googlenews.page_at(i)\n",
        "  result.extend(googlenews.page_at(i))\n",
        "\n",
        "print(len(result))\n",
        "result"
      ],
      "metadata": {
        "colab": {
          "base_uri": "https://localhost:8080/"
        },
        "id": "hN1cK74KaohN",
        "outputId": "1123020d-c0ce-4275-a122-ac9626e6be7d"
      },
      "execution_count": null,
      "outputs": [
        {
          "output_type": "stream",
          "name": "stdout",
          "text": [
            "30\n"
          ]
        },
        {
          "output_type": "execute_result",
          "data": {
            "text/plain": [
              "[{'date': '6 天前',\n",
              "  'datetime': None,\n",
              "  'desc': '張嘉男／綜合報導. \\n民眾黨主席柯文哲18日前往金門時主張興建「金廈大橋」，陸委會抨擊柯文哲的說法無知，對此台北市政府發言人陳智菡舉過去蔡英文、陳建仁到金門站台...',\n",
              "  'img': 'data:image/gif;base64,R0lGODlhAQABAIAAAP///////yH5BAEKAAEALAAAAAABAAEAAAICTAEAOw==',\n",
              "  'link': 'https://tw.news.yahoo.com/%E6%9F%AF%E6%96%87%E5%93%B2%E6%8B%8B-%E9%87%91%E5%BB%88%E5%A4%A7%E6%A9%8B-%E6%8C%A8%E6%89%B9%E7%84%A1%E7%9F%A5-%E9%99%B3%E6%99%BA%E8%8F%A1-%E8%94%A1%E8%8B%B1%E6%96%87-021633134.html',\n",
              "  'media': 'Yahoo奇摩新聞',\n",
              "  'title': '柯文哲拋「金廈大橋」挨批無知 陳智菡：蔡英文、陳建仁也曾表態認同'},\n",
              " {'date': '6 天前',\n",
              "  'datetime': None,\n",
              "  'desc': '民眾黨黨主席、台北市長柯文哲日前拋出興建「金廈大橋」，遭陸委會轟為「荒謬、無知」，台北市政府發言人陳智菡反擊，總統蔡英文總統在2015年輔選參選立委的陳滄江，也...',\n",
              "  'img': 'data:image/gif;base64,R0lGODlhAQABAIAAAP///////yH5BAEKAAEALAAAAAABAAEAAAICTAEAOw==',\n",
              "  'link': 'https://www.upmedia.mg/news_info.php?Type=24&SerialNo=147571',\n",
              "  'media': '上報Up Media',\n",
              "  'title': '駁「金廈大橋」是蔡英文政見民進黨：用搜尋引擎可知全貌--上報'},\n",
              " {'date': '6 天前',\n",
              "  'datetime': None,\n",
              "  'desc': '今(22)日又強調，2015年民進黨立委候選人陳滄江也曾提過，蓋金廈大橋是他與當時的總統候選人蔡英文的「共同政見」，難道蔡總統也變中共同路人？',\n",
              "  'img': 'data:image/gif;base64,R0lGODlhAQABAIAAAP///////yH5BAEKAAEALAAAAAABAAEAAAICTAEAOw==',\n",
              "  'link': 'https://newtalk.tw/news/view/2022-06-22/773956',\n",
              "  'media': 'Newtalk新聞',\n",
              "  'title': '「金廈大橋」曾是蔡英文政見 黃暐瀚：難道蔡總統也變中共同路人？'},\n",
              " {'date': '5 天前',\n",
              "  'datetime': None,\n",
              "  'desc': '有關總統蔡英文論文議題再有新進展，旅美學者林環牆22日指出，英國一審行政法庭麥肯納法官近日做出2項判決，指出LSE提供不實的蔡英文博士口委名單給台灣，另媒體人彭文...',\n",
              "  'img': 'data:image/gif;base64,R0lGODlhAQABAIAAAP///////yH5BAEKAAEALAAAAAABAAEAAAICTAEAOw==',\n",
              "  'link': 'https://tw.news.yahoo.com/%E8%AB%96%E6%96%87%E6%96%B0%E9%80%B2%E5%B1%95-%E8%94%A1%E8%8B%B1%E6%96%87%E5%BE%8B%E5%B8%AB%E5%8F%8D%E6%93%8A%E5%BD%AD%E6%96%87%E6%AD%A3-123241234.html',\n",
              "  'media': 'Yahoo奇摩新聞',\n",
              "  'title': '論文新進展！蔡英文律師反擊彭文正'},\n",
              " {'date': '5 天前',\n",
              "  'datetime': None,\n",
              "  'desc': '旅美學者林環牆持續追蹤總統蔡英文「論文門」爭議，林環牆於臉書發文表示，英國一審行政法庭法官麥肯納（Alison \\nMckenna）重重打臉英國資訊特任官辦公室（ICO），...',\n",
              "  'img': 'data:image/gif;base64,R0lGODlhAQABAIAAAP///////yH5BAEKAAEALAAAAAABAAEAAAICTAEAOw==',\n",
              "  'link': 'https://www.storm.mg/article/4393025?page=1',\n",
              "  'media': '風傳媒',\n",
              "  'title': '林環牆稱LSE提報2教師冒充蔡英文博士口委蔡英文律師：注意 ...'},\n",
              " {'date': '5 天前',\n",
              "  'datetime': None,\n",
              "  'desc': '學者林環牆指稱，英國行政法庭判決倫敦政經學院（LSE）提供不實的總統蔡英文博士口試委員名單給台灣法務部；名嘴彭文正及網路節目「政經關不了」並指稱，總統提供偽造證據...',\n",
              "  'img': 'data:image/gif;base64,R0lGODlhAQABAIAAAP///////yH5BAEKAAEALAAAAAABAAEAAAICTAEAOw==',\n",
              "  'link': 'https://news.ltn.com.tw/news/politics/breakingnews/3970332',\n",
              "  'media': '自由時報',\n",
              "  'title': '蔡英文委任律師：英國法院無任何指稱串通LSE或偽證'},\n",
              " {'date': '3 天前',\n",
              "  'datetime': None,\n",
              "  'desc': '對此，前立委沈富雄認為，2024年代表綠營參選總統的一定是賴清德；陳建仁則是被總統蔡英文用來逼賴聽話的「一招棋」。 \\n針對陳建仁否認為選總統入黨、以「台灣缺陳建仁作...',\n",
              "  'img': 'data:image/gif;base64,R0lGODlhAQABAIAAAP///////yH5BAEKAAEALAAAAAABAAEAAAICTAEAOw==',\n",
              "  'link': 'https://tw.news.yahoo.com/%E9%99%B3%E5%BB%BA%E4%BB%81%E5%85%A5%E9%BB%A8%E4%B8%8D%E7%82%BA%E9%81%B8%E7%B8%BD%E7%B5%B1-%E6%B2%88%E5%AF%8C%E9%9B%84%E6%8F%AD%E8%94%A1%E8%8B%B1%E6%96%87%E7%9B%A4%E7%AE%97-%E5%A6%82%E6%9E%9C%E8%B3%B4%E6%B8%85%E5%BE%B7%E5%A4%A0%E4%B9%96%E5%B0%B1%E6%B2%92%E4%BA%8B%E4%BA%86-084000349.html',\n",
              "  'media': 'Yahoo奇摩新聞',\n",
              "  'title': '陳建仁入黨不為選總統？沈富雄揭蔡英文盤算：如果賴清德夠乖就沒事了'},\n",
              " {'date': '4 天前',\n",
              "  'datetime': None,\n",
              "  'desc': '總統蔡英文21日召見立委黃秀芳會談下屆縣長問題後，總統蔡英文明天將出席小英之友會彰化分會會員大會，彰化縣3位女立委都受邀，綠營研判總統將宣布徵召黃秀芳，對於接...',\n",
              "  'img': 'data:image/gif;base64,R0lGODlhAQABAIAAAP///////yH5BAEKAAEALAAAAAABAAEAAAICTAEAOw==',\n",
              "  'link': 'https://tw.news.yahoo.com/%E8%94%A1%E8%8B%B1%E6%96%87%E6%98%8E%E5%88%B0%E5%BD%B0%E5%8C%96%E5%BE%B5%E5%8F%AC%E9%BB%83%E7%A7%80%E8%8A%B3%E6%88%90%E5%AE%9A%E5%B1%80-%E7%8E%8B%E6%83%A0%E7%BE%8E%E9%80%99%E9%BA%BC%E5%9B%9E%E6%87%89-130906086.html',\n",
              "  'media': 'Yahoo奇摩新聞',\n",
              "  'title': '蔡英文明到彰化徵召黃秀芳成定局？ 王惠美這麼回應'},\n",
              " {'date': '3 天前',\n",
              "  'datetime': None,\n",
              "  'desc': '台中市/ 吳烈安林品鑫報導. \\n總統蔡英文上前往台中，到國軍台中803總醫院視察，並且慰勞醫護人員，除了市長盧秀燕到現場陪同，要參選台中市長的立法院副院長蔡其昌也...',\n",
              "  'img': 'data:image/gif;base64,R0lGODlhAQABAIAAAP///////yH5BAEKAAEALAAAAAABAAEAAAICTAEAOw==',\n",
              "  'link': 'https://tw.news.yahoo.com/%E8%94%A1%E8%8B%B1%E6%96%87%E8%A6%96%E5%AF%9F803%E7%B8%BD%E9%86%AB%E9%99%A2-%E7%9B%A7%E7%A7%80%E7%87%95-%E8%94%A1%E5%85%B6%E6%98%8C%E9%99%AA%E5%90%8C-050000764.html',\n",
              "  'media': 'Yahoo奇摩新聞',\n",
              "  'title': '蔡英文視察803總醫院 盧秀燕.蔡其昌陪同'},\n",
              " {'date': '1 週前',\n",
              "  'datetime': None,\n",
              "  'desc': '游盈隆指出，蔡英文民調與上個月相比，並沒有明顯起伏，因為Omicron疫情嚴重爆發，所以讓蔡政府的防疫表現不再讓人民津津樂道，蔡英文的民調也開始下跌，雖然中國大陸...',\n",
              "  'img': 'data:image/gif;base64,R0lGODlhAQABAIAAAP///////yH5BAEKAAEALAAAAAABAAEAAAICTAEAOw==',\n",
              "  'link': 'https://tw.news.yahoo.com/%E7%9F%B3%E6%96%91%E9%AD%9A%E4%B9%9F%E6%95%91%E4%B8%8D%E4%BA%86%E8%94%A1%E8%8B%B1%E6%96%87-%E6%9C%80%E6%96%B0%E6%B0%91%E8%AA%BF%E5%87%BA%E7%88%90-%E4%BB%96%E6%9B%9D%E7%B6%A0%E7%87%9F%E5%B9%B4%E5%BA%95%E9%81%B8%E8%88%89%E4%B8%8B%E5%A0%B4-124727782.html',\n",
              "  'media': 'Yahoo奇摩新聞',\n",
              "  'title': '石斑魚也救不了蔡英文！最新民調出爐 他曝綠營年底選舉下場'},\n",
              " {'date': '6 天前',\n",
              "  'datetime': None,\n",
              "  'desc': '民進黨主席蔡英文在會後記者會致詞時說，今天提名的3個城市，都曾是民進黨的艱困選區，這8年執政造就了城市的翻轉，下一個接棒的優質同志要一棒比一棒好。但尷尬的是，蔡...',\n",
              "  'img': 'data:image/gif;base64,R0lGODlhAQABAIAAAP///////yH5BAEKAAEALAAAAAABAAEAAAICTAEAOw==',\n",
              "  'link': 'https://tw.news.yahoo.com/%E4%B8%8D%E7%86%9F-%E6%B0%91%E9%80%B2%E9%BB%A8%E6%8F%90%E5%90%8D%E8%A8%98%E8%80%85%E6%9C%83-%E8%94%A1%E8%8B%B1%E6%96%87%E6%8A%8A%E6%B2%88%E6%85%A7%E8%99%B9%E5%8F%A3%E8%AA%A4-%E6%9E%97%E6%85%A7%E8%99%B9-080234726.html',\n",
              "  'media': 'Yahoo奇摩新聞',\n",
              "  'title': '不熟？民進黨提名記者會 蔡英文把沈慧虹口誤「林慧虹」'},\n",
              " {'date': '6 天前',\n",
              "  'datetime': None,\n",
              "  'desc': '蔡英文說，基隆、桃園、新竹在進步，不走回頭路也不能走回頭路，在地方執政的好口碑，市民好不容易找回的光榮感，一定要延續下去，現在就是擘劃下一個八年願景的時候。 \\n蔡...',\n",
              "  'img': 'data:image/gif;base64,R0lGODlhAQABAIAAAP///////yH5BAEKAAEALAAAAAABAAEAAAICTAEAOw==',\n",
              "  'link': 'https://udn.com/news/story/122682/6407290',\n",
              "  'media': '聯合報',\n",
              "  'title': '蔡適應、林智堅、沈慧虹戰基桃竹 蔡英文：最強人選'},\n",
              " {'date': '6 天前',\n",
              "  'datetime': None,\n",
              "  'desc': '民進黨新聞部中執會後召開「中央地方會做事打造五星級城市」基隆市、桃園市、新竹市市長提名記者會，由主席蔡英文（右3）宣布提名蔡適應（右2）、林智堅（螢幕上...',\n",
              "  'img': 'data:image/gif;base64,R0lGODlhAQABAIAAAP///////yH5BAEKAAEALAAAAAABAAEAAAICTAEAOw==',\n",
              "  'link': 'https://news.ltn.com.tw/news/politics/breakingnews/3968648',\n",
              "  'media': '自由時報',\n",
              "  'title': '桃竹基徵召林智堅、沈慧虹、蔡適應 蔡英文：發展不能走回頭路'},\n",
              " {'date': '2 小時前',\n",
              "  'datetime': None,\n",
              "  'desc': '總統蔡英文今（28日）舉辦勗勉新科將領活動，蔡英文指出，為因應疫情及瞬息萬變國際情勢，國軍不能有任何鬆懈，應繼續強化守護國家安全力量，讓世界看到保衛國家決心。',\n",
              "  'img': 'data:image/gif;base64,R0lGODlhAQABAIAAAP///////yH5BAEKAAEALAAAAAABAAEAAAICTAEAOw==',\n",
              "  'link': 'https://tw.news.yahoo.com/%E8%94%A1%E8%8B%B1%E6%96%87%E5%8B%97%E5%8B%89%E6%96%B0%E7%A7%91%E5%B0%87%E9%A0%98%E7%AB%9F%E4%BE%86%E4%BA%86%E5%B0%8F%E8%90%8C%E5%BC%9F-%E7%AB%A5%E8%A8%80%E7%AB%A5%E8%AA%9E%E7%A8%B1-%E4%B8%8D%E6%83%B3%E7%95%B6%E8%BB%8D%E4%BA%BA-%E7%AC%91%E7%BF%BB%E7%8F%BE%E5%A0%B4-030000857.html',\n",
              "  'media': 'Yahoo奇摩新聞',\n",
              "  'title': '蔡英文勗勉新科將領竟來了小萌弟 童言童語稱：「不想當軍人」笑翻現場'},\n",
              " {'date': '1 小時前',\n",
              "  'datetime': None,\n",
              "  'desc': '蔡英文表示，中華民國國軍是守護國家、保衛人民的堅實屏障。官兵除了日常精實戰備訓練，每當國人有需要，都會立刻出動協助、支援；從疫情爆發以來，國軍秉持「防疫視同...',\n",
              "  'img': 'data:image/gif;base64,R0lGODlhAQABAIAAAP///////yH5BAEKAAEALAAAAAABAAEAAAICTAEAOw==',\n",
              "  'link': 'https://www.storm.mg/article/4399167',\n",
              "  'media': '風傳媒',\n",
              "  'title': '晉任將官訓勉典禮今登場蔡英文勉精進國軍戰力：晉任是榮耀 ...'},\n",
              " {'date': '3 小時前',\n",
              "  'datetime': None,\n",
              "  'desc': '國防部今天（28日）舉行陸海空軍晉任將官勗勉典禮，蔡英文總統表示，當前因應疫情，及瞬息萬變國際情勢，不能有任何鬆懈，台灣要強化守護國家安全的力量，讓世界看到...',\n",
              "  'img': 'data:image/gif;base64,R0lGODlhAQABAIAAAP///////yH5BAEKAAEALAAAAAABAAEAAAICTAEAOw==',\n",
              "  'link': 'https://www.upmedia.mg/news_info.php?Type=24&SerialNo=147955',\n",
              "  'media': '上報Up Media',\n",
              "  'title': '國軍25位中少將晉任蔡英文勉：國際情勢瞬息萬變不容任何鬆懈 ...'},\n",
              " {'date': '0 小時前',\n",
              "  'datetime': None,\n",
              "  'desc': '國民黨副秘書長王育敏表示，油電雙漲時，蔡英文批評馬政府感受人民的痛苦，跟人民的感覺真的差很遠；蔡2016年還說，電價10年內不會大幅上漲，現在這樣算不算大幅調漲？',\n",
              "  'img': 'data:image/gif;base64,R0lGODlhAQABAIAAAP///////yH5BAEKAAEALAAAAAABAAEAAAICTAEAOw==',\n",
              "  'link': 'https://tw.news.yahoo.com/%E8%94%A1%E8%8B%B1%E6%96%87%E6%9B%BE%E8%AA%AA10%E5%B9%B4%E4%B8%8D%E6%BC%B2%E9%9B%BB%E5%83%B9-%E5%9C%8B%E6%B0%91%E9%BB%A8-%E6%B0%91%E9%80%B2%E9%BB%A8%E7%9A%84%E5%98%B4%E9%A8%99%E4%BA%BA%E7%9A%84%E9%AC%BC-045046740.html',\n",
              "  'media': 'Yahoo奇摩新聞',\n",
              "  'title': '蔡英文曾說10年不漲電價 藍轟民進黨：騙人的鬼'},\n",
              " {'date': '1 天前',\n",
              "  'datetime': None,\n",
              "  'desc': '蔡英文說：「在疫情挑戰之下，世界性的運動賽事能夠舉行，非常地不容易。從去年的東京奧運到今年的第十一屆世界運動會，都展現了全世界的人類共同對抗疫情的決心。',\n",
              "  'img': 'data:image/gif;base64,R0lGODlhAQABAIAAAP///////yH5BAEKAAEALAAAAAABAAEAAAICTAEAOw==',\n",
              "  'link': 'https://tw.news.yahoo.com/%E4%B8%96%E9%81%8B7%E6%9C%88%E7%BE%8E%E5%9C%8B%E4%BC%AF%E6%98%8E%E7%BD%95%E7%99%BB%E5%A0%B4-%E7%B8%BD%E7%B5%B1%E8%94%A1%E8%8B%B1%E6%96%87%E6%8E%88%E6%97%97%E4%BB%A3%E8%A1%A8%E5%9C%98-095220500.html',\n",
              "  'media': 'Yahoo奇摩新聞',\n",
              "  'title': '世運7月美國伯明罕登場 總統蔡英文授旗代表團'},\n",
              " {'date': '6 天前',\n",
              "  'datetime': None,\n",
              "  'desc': '民進黨今中執會後召開「中央地方會做事打造五星級城市」基隆市、桃園市、新竹市市長提名記者會；身兼黨主席蔡英文總統致詞頻口誤，不僅把新竹市長副市長沈慧虹念...',\n",
              "  'img': 'data:image/gif;base64,R0lGODlhAQABAIAAAP///////yH5BAEKAAEALAAAAAABAAEAAAICTAEAOw==',\n",
              "  'link': 'https://tw.news.yahoo.com/%E7%B6%A0%E7%87%9F%E7%B8%A3%E5%B8%82%E9%95%B7%E6%8F%90%E5%90%8D%E8%94%A1%E8%8B%B1%E6%96%87%E9%A0%BB%E5%8F%A3%E8%AA%A4-%E5%BF%B5%E9%8C%AF%E5%90%8D%E9%82%84%E7%9B%B4%E5%96%8A%E5%A5%B9%E4%BA%94%E6%98%9F%E6%97%97%E5%89%AF%E5%B8%82%E9%95%B7-083512488.html',\n",
              "  'media': 'Yahoo奇摩新聞',\n",
              "  'title': '蔡英文提名頻口誤 喊她「林慧虹」還讚：五星旗副市長'},\n",
              " {'date': '4 小時前',\n",
              "  'datetime': None,\n",
              "  'desc': '據《美麗島電子報》公布的「2022年6月國政民調」中可看到，台灣民眾在6月對蔡英文總統執政整體表現而言，有54.5％滿意、42.2%不滿意，滿意程度的表現比上月增加4.6個...',\n",
              "  'img': 'data:image/gif;base64,R0lGODlhAQABAIAAAP///////yH5BAEKAAEALAAAAAABAAEAAAICTAEAOw==',\n",
              "  'link': 'https://tw.news.yahoo.com/%E8%94%A1%E8%8B%B1%E6%96%87%E6%9C%80%E6%96%B0%E6%B0%91%E8%AA%BF%E5%87%BA%E7%88%90-%E7%B6%B2%E5%8F%8B%E7%9C%8B%E5%AE%8C%E5%85%A8%E5%82%BB%E7%9C%BC-%E8%A6%8B%E9%AC%BC%E4%BA%86-005847970.html',\n",
              "  'media': 'Yahoo奇摩新聞',\n",
              "  'title': '蔡英文最新民調出爐網友看完全傻眼：見鬼了'},\n",
              " {'date': '1 週前',\n",
              "  'datetime': None,\n",
              "  'desc': '資深媒體人趙少康今（21）日就挖出2016年蔡政府做出「十年內電價不會大漲」的承諾，更指出總統蔡英文錯誤的能源政策恐讓國庫損失公款1000億甚至2000億元，如同貪污國庫...',\n",
              "  'img': 'data:image/gif;base64,R0lGODlhAQABAIAAAP///////yH5BAEKAAEALAAAAAABAAEAAAICTAEAOw==',\n",
              "  'link': 'https://tw.news.yahoo.com/%E9%9B%BB%E5%83%B9%E7%89%A9%E5%83%B9%E9%9B%99%E6%BC%B2-%E8%B6%99%E5%B0%91%E5%BA%B7%E7%8B%A0%E6%89%93%E8%87%89%E8%94%A1%E8%8B%B1%E6%96%876%E5%B9%B4%E5%89%8D%E6%89%BF%E8%AB%BE-%E6%AF%94%E8%B2%AA%E6%B1%A1%E5%8F%AF%E6%80%95-082804798.html',\n",
              "  'media': 'Yahoo奇摩新聞',\n",
              "  'title': '電價物價雙漲 趙少康狠打臉蔡英文6年前承諾：比貪污可怕'},\n",
              " {'date': '5 天前',\n",
              "  'datetime': None,\n",
              "  'desc': '蔡英文並表示，今天她要恭喜南亞科技，正式啟動自主研發10奈米級DRAM技術。這代表台塑集團，將會正式邁向DRAM技術自主，這也是台灣的高科技產業，布局元宇宙商機、強化自主...',\n",
              "  'img': 'data:image/gif;base64,R0lGODlhAQABAIAAAP///////yH5BAEKAAEALAAAAAABAAEAAAICTAEAOw==',\n",
              "  'link': 'https://tw.news.yahoo.com/%E5%8D%97%E4%BA%9E%E7%A7%9112%E5%90%8B%E6%96%B0%E5%BB%A0%E4%BB%8A%E5%8B%95%E5%9C%9F-%E8%94%A1%E8%8B%B1%E6%96%87%E8%82%AF%E5%AE%9A-%E8%AD%B7%E5%9C%8B%E7%BE%A4%E5%B1%B1-%E5%86%8D-1-051510476.html',\n",
              "  'media': 'Yahoo奇摩新聞',\n",
              "  'title': '南亞科12吋新廠今動土 蔡英文肯定：「護國群山」再+1'},\n",
              " {'date': '5 天前',\n",
              "  'datetime': None,\n",
              "  'desc': '蔡英文表示，面對2050革命性的淨零轉型，她要鼓勵國內的大型產業，尤其是像台塑集團這樣的龍頭企業，把低碳、零碳的挑戰轉化為商機，不僅是製程優化、能源轉換，甚至是再生...',\n",
              "  'img': 'data:image/gif;base64,R0lGODlhAQABAIAAAP///////yH5BAEKAAEALAAAAAABAAEAAAICTAEAOw==',\n",
              "  'link': 'https://www.chinatimes.com/realtimenews/20220623003358-260410',\n",
              "  'media': '中時新聞網',\n",
              "  'title': '出席南亞科新廠動土 蔡英文：護國群山再加一'},\n",
              " {'date': '5 天前',\n",
              "  'datetime': None,\n",
              "  'desc': '台塑集團旗下DRAM大廠南亞科花費3,000億元新建12吋廠今（23）日舉行動土典禮，總統蔡英文及新北市長侯友宜均出席。蔡英文致詞時除了表示，感謝南亞科技幾年來深耕...',\n",
              "  'img': 'data:image/gif;base64,R0lGODlhAQABAIAAAP///////yH5BAEKAAEALAAAAAABAAEAAAICTAEAOw==',\n",
              "  'link': 'https://www.setn.com/News.aspx?NewsID=1134892',\n",
              "  'media': '三立新聞',\n",
              "  'title': '同台侯友宜！南亞科新廠動土 蔡英文：中央地方攜手合作'},\n",
              " {'date': '6 天前',\n",
              "  'datetime': None,\n",
              "  'desc': '蔡英文強調這次展出的，都是民主朋友的優良產品，像是近來台灣石斑魚遭中國打壓，日本漁民就聲援台灣，情義相挺！ \\n在麵包上灑下麵粉，出現「台灣」及「立陶宛」的字樣，...',\n",
              "  'img': 'data:image/gif;base64,R0lGODlhAQABAIAAAP///////yH5BAEKAAEALAAAAAABAAEAAAICTAEAOw==',\n",
              "  'link': 'https://tw.news.yahoo.com/%E9%80%9B%E5%9C%8B%E9%9A%9B%E9%A3%9F%E5%93%81%E5%B1%95-%E8%94%A1%E8%8B%B1%E6%96%87-%E9%80%99%E8%A3%A1%E9%83%BD%E6%98%AF%E6%B0%91%E4%B8%BB%E9%A3%9F%E5%93%81-051003868.html',\n",
              "  'media': 'Yahoo奇摩新聞',\n",
              "  'title': '逛國際食品展 蔡英文：這裡都是民主食品'},\n",
              " {'date': '1 天前',\n",
              "  'datetime': None,\n",
              "  'desc': '[周刊王CTWANT] \\n國安會祕書長顧立雄領軍赴美參加的台美蒙特瑞會議已結束。據透露，蔡英文總統任內每年均帶隊出席的國安會副祕書長陳文政，今年首度未被蔡英文指派參加...',\n",
              "  'img': 'data:image/gif;base64,R0lGODlhAQABAIAAAP///////yH5BAEKAAEALAAAAAABAAEAAAICTAEAOw==',\n",
              "  'link': 'https://tw.news.yahoo.com/%E9%A1%A7%E7%AB%8B%E9%9B%84%E5%8F%AF%E6%9C%9B%E6%88%90%E7%82%BA%E8%94%A1%E8%8B%B1%E6%96%87%E4%BB%BB%E5%85%A7-%E9%A6%96%E4%BD%8D%E6%96%87%E4%BA%BA%E5%9C%8B%E9%98%B2%E9%83%A8%E9%95%B7-232236294.html',\n",
              "  'media': 'Yahoo奇摩新聞',\n",
              "  'title': '顧立雄可望成為蔡英文任內 首位文人國防部長'},\n",
              " {'date': '4 小時前',\n",
              "  'datetime': None,\n",
              "  'desc': '民進黨主席蔡英文今晚召開選對會，建議徵召立委黃秀芳為彰化縣長候選人、總統府副秘書長李俊俋為嘉義市長候選人，並提交下一次中執會，進行徵召提名作業。',\n",
              "  'img': 'data:image/gif;base64,R0lGODlhAQABAIAAAP///////yH5BAEKAAEALAAAAAABAAEAAAICTAEAOw==',\n",
              "  'link': 'https://tw.news.yahoo.com/%E8%94%A1%E8%8B%B1%E6%96%87%E6%8B%8D%E6%9D%BF-%E5%BD%B0%E5%8C%96%E5%B0%87%E6%8F%90%E9%BB%83%E7%A7%80%E8%8A%B3%E5%B0%8D%E6%B1%BA%E7%8E%8B%E6%83%A0%E7%BE%8E%E3%80%81%E6%9D%8E%E4%BF%8A%E4%BF%8B%E5%87%BA%E6%88%B0%E5%98%89%E7%BE%A9%E5%B8%82-113352217.html',\n",
              "  'media': 'Yahoo奇摩新聞',\n",
              "  'title': '蔡英文拍板彰化將提黃秀芳對決王惠美、李俊俋出戰嘉義市'},\n",
              " {'date': '3 小時前',\n",
              "  'datetime': None,\n",
              "  'desc': '（中央社記者黃國芳嘉義市28日電）民進黨主席蔡英文今晚召開選對會，建議徵召總統府副秘書長李俊俋為嘉義市長參選人；國民黨籍現任嘉義市長黃敏惠表示，尊重各黨決定的人選...',\n",
              "  'img': 'data:image/gif;base64,R0lGODlhAQABAIAAAP///////yH5BAEKAAEALAAAAAABAAEAAAICTAEAOw==',\n",
              "  'link': 'https://tw.news.yahoo.com/%E8%94%A1%E8%8B%B1%E6%96%87%E6%8B%8D%E6%9D%BF%E6%9D%8E%E4%BF%8A%E4%BF%8B%E5%8F%83%E9%81%B8%E5%98%89%E7%BE%A9%E5%B8%82%E9%95%B7-%E9%BB%83%E6%95%8F%E6%83%A0-%E5%B0%8A%E9%87%8D-123103117.html',\n",
              "  'media': 'Yahoo奇摩新聞',\n",
              "  'title': '蔡英文拍板李俊俋參選嘉義市長 黃敏惠：尊重'},\n",
              " {'date': '1 週前',\n",
              "  'datetime': None,\n",
              "  'desc': '蔡英文指出，台灣的造船產業發展到現在，已經超過半個世紀，從小型船舶、汽艇，再到現在的大型商船和軍艦，台灣船艦的建造品質，受到世界肯定。蔡英文進一步指出，為了持續...',\n",
              "  'img': 'data:image/gif;base64,R0lGODlhAQABAIAAAP///////yH5BAEKAAEALAAAAAABAAEAAAICTAEAOw==',\n",
              "  'link': 'https://tw.news.yahoo.com/%E5%87%BA%E5%B8%AD-%E8%88%B9%E6%A8%A1%E8%A9%A6%E9%A9%97%E5%9C%8B%E5%AE%B6%E9%9A%8A%E6%88%90%E7%AB%8B%E5%A4%A7%E6%9C%83-%E8%94%A1%E8%8B%B1%E6%96%87-%E5%AE%A3%E7%A4%BA%E8%88%B9%E8%89%A6%E8%A9%A6%E9%A9%97%E5%B7%A5%E4%BD%9C%E7%95%99%E5%9C%A8%E5%8F%B0%E7%81%A3%E7%9A%84%E6%B1%BA%E5%BF%83-100812269.html',\n",
              "  'media': 'Yahoo奇摩新聞',\n",
              "  'title': '出席「船模試驗國家隊成立大會」 蔡英文：宣示船艦試驗工作留在台灣的決心'},\n",
              " {'date': '3 天前',\n",
              "  'datetime': None,\n",
              "  'desc': '記者李俊毅／綜合報導. \\n國民黨立委洪孟楷近日翻出蔡英文過去曾在臉書質疑馬政府「這段時間以來，所有的物價全都上漲」，「這個政府在感受人民的痛苦，跟人民的感覺，真...',\n",
              "  'img': 'data:image/gif;base64,R0lGODlhAQABAIAAAP///////yH5BAEKAAEALAAAAAABAAEAAAICTAEAOw==',\n",
              "  'link': 'https://tw.news.yahoo.com/%E8%94%A1%E8%8B%B1%E6%96%87%E6%9B%BE%E8%AC%9B-%E9%80%99%E6%AE%B5%E8%A9%B1-%E5%85%A8%E7%B6%B2%E6%9C%9D%E8%81%96%E7%A5%9E%E6%96%87%E9%85%B8%E7%88%86-%E6%9C%83%E8%A2%AB%E4%B8%8B%E6%9E%B6%E5%97%8E-065829253.html',\n",
              "  'media': 'Yahoo奇摩新聞',\n",
              "  'title': '蔡英文曾講「這段話」！全網朝聖神文酸爆：會被下架嗎'}]"
            ]
          },
          "metadata": {},
          "execution_count": 5
        }
      ]
    }
  ]
}